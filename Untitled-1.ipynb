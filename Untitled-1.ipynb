{
 "cells": [
  {
   "cell_type": "markdown",
   "id": "20619d29",
   "metadata": {},
   "source": [
    "# Extract Titles for LCCN Retrieval\n",
    "This notebook extracts titles from relevant columns in the dataset for LCCN retrieval and outputs them to a CSV file named `titles_needed.csv`."
   ]
  },
  {
   "cell_type": "markdown",
   "id": "e6762dbd",
   "metadata": {},
   "source": [
    "## Import Required Libraries\n",
    "Import the necessary libraries for data manipulation and text processing."
   ]
  },
  {
   "cell_type": "code",
   "execution_count": null,
   "id": "845c57a1",
   "metadata": {},
   "outputs": [],
   "source": [
    "# Import Required Libraries\n",
    "import pandas as pd\n",
    "import re"
   ]
  },
  {
   "cell_type": "markdown",
   "id": "e3207b1f",
   "metadata": {},
   "source": [
    "## Define Helper Functions\n",
    "Define functions to extract text between brackets ([[ ]]) from specified columns."
   ]
  },
  {
   "cell_type": "code",
   "execution_count": null,
   "id": "aef6229c",
   "metadata": {},
   "outputs": [],
   "source": [
    "# Define a function to extract text between double brackets ([[ ]])\n",
    "def extract_titles_from_column(column_data):\n",
    "    \"\"\"\n",
    "    Extracts text between double brackets ([[ ]]) from a pandas Series.\n",
    "\n",
    "    Args:\n",
    "        column_data (pd.Series): The column data to process.\n",
    "\n",
    "    Returns:\n",
    "        list: A list of extracted titles.\n",
    "    \"\"\"\n",
    "    titles = []\n",
    "    for entry in column_data.dropna():\n",
    "        if isinstance(entry, str):\n",
    "            matches = re.findall(r'\\[\\[(.*?)\\]\\]', entry)\n",
    "            titles.extend(matches)\n",
    "    return titles"
   ]
  },
  {
   "cell_type": "markdown",
   "id": "2a5c81b8",
   "metadata": {},
   "source": [
    "## Extract Titles from Relevant Columns\n",
    "Iterate through the relevant columns (identified in `process_place_columns`, `process_date_columns`, and `process_occupation_column`) and extract titles using the helper functions."
   ]
  },
  {
   "cell_type": "code",
   "execution_count": null,
   "id": "1da11172",
   "metadata": {},
   "outputs": [],
   "source": [
    "# Load the dataset\n",
    "file_path = './LOD_Person_Prep_Script_Data.xlsx'  # Update with the actual file path\n",
    "df_persons = pd.read_excel(file_path)\n",
    "\n",
    "# Define the relevant columns for title extraction\n",
    "relevant_columns = [\n",
    "    'Place of Birth (P19)', 'Place of Death', 'Place of Residence',\n",
    "    'Occupation', 'Birth Date', 'Death Date', 'Marriage Date'\n",
    "]\n",
    "\n",
    "# Extract titles from each relevant column\n",
    "all_titles = []\n",
    "for column in relevant_columns:\n",
    "    if column in df_persons.columns:\n",
    "        titles = extract_titles_from_column(df_persons[column])\n",
    "        all_titles.extend(titles)"
   ]
  },
  {
   "cell_type": "markdown",
   "id": "bc1dfdf1",
   "metadata": {},
   "source": [
    "## Combine and Deduplicate Titles\n",
    "Combine all extracted titles into a single list and remove duplicates."
   ]
  },
  {
   "cell_type": "code",
   "execution_count": null,
   "id": "5e24085d",
   "metadata": {},
   "outputs": [],
   "source": [
    "# Combine and deduplicate titles\n",
    "unique_titles = list(set(all_titles))"
   ]
  },
  {
   "cell_type": "markdown",
   "id": "8d5cf1d5",
   "metadata": {},
   "source": [
    "## Export Titles to CSV\n",
    "Save the deduplicated list of titles to a CSV file named `titles_needed.csv`."
   ]
  },
  {
   "cell_type": "code",
   "execution_count": null,
   "id": "e57ef926",
   "metadata": {},
   "outputs": [],
   "source": [
    "# Export the deduplicated titles to a CSV file\n",
    "output_file = 'titles_needed.csv'\n",
    "pd.DataFrame({'Title': unique_titles}).to_csv(output_file, index=False, encoding='utf-8-sig')\n",
    "\n",
    "print(f\"Titles have been successfully exported to {output_file}.\")"
   ]
  }
 ],
 "metadata": {
  "language_info": {
   "name": "python"
  }
 },
 "nbformat": 4,
 "nbformat_minor": 5
}
