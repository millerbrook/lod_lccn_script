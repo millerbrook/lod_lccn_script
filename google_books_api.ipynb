{
 "cells": [
  {
   "cell_type": "markdown",
   "id": "738c8720",
   "metadata": {},
   "source": [
    "# Install Required Libraries\n",
    "Install any required libraries, such as `requests`, using pip."
   ]
  },
  {
   "cell_type": "code",
   "execution_count": null,
   "id": "c7d39161",
   "metadata": {},
   "outputs": [],
   "source": [
    "# Install Required Libraries\n",
    "# Uncomment the line below to install the requests library if not already installed\n",
    "# !pip install requests"
   ]
  },
  {
   "cell_type": "markdown",
   "id": "1e3a1abb",
   "metadata": {},
   "source": [
    "# Import Required Libraries\n",
    "Import necessary libraries, including `requests` and `json`."
   ]
  },
  {
   "cell_type": "code",
   "execution_count": null,
   "id": "b15b0c95",
   "metadata": {},
   "outputs": [],
   "source": [
    "# Import Required Libraries\n",
    "import requests\n",
    "import json"
   ]
  },
  {
   "cell_type": "markdown",
   "id": "d51b1534",
   "metadata": {},
   "source": [
    "# Set Up API Key and Base URL\n",
    "Set up the Google Books API key and base URL for making API requests."
   ]
  },
  {
   "cell_type": "code",
   "execution_count": null,
   "id": "7c0ae707",
   "metadata": {},
   "outputs": [],
   "source": [
    "# Set Up API Key and Base URL\n",
    "API_KEY = \"your_google_books_api_key_here\"  # Replace with your actual API key\n",
    "BASE_URL = \"https://www.googleapis.com/books/v1/volumes\""
   ]
  },
  {
   "cell_type": "markdown",
   "id": "db16e915",
   "metadata": {},
   "source": [
    "# Define Function to Retrieve LCCN\n",
    "Write a function that takes a book title as input, makes an API call to the Google Books API, and retrieves the LCCN number from the response."
   ]
  },
  {
   "cell_type": "code",
   "execution_count": null,
   "id": "ed0e3308",
   "metadata": {},
   "outputs": [],
   "source": [
    "# Define Function to Retrieve LCCN\n",
    "def get_lccn(book_title):\n",
    "    \"\"\"\n",
    "    Retrieve the Library of Congress Control Number (LCCN) for a given book title using the Google Books API.\n",
    "\n",
    "    Args:\n",
    "        book_title (str): The title of the book to search for.\n",
    "\n",
    "    Returns:\n",
    "        str: The LCCN number if found, otherwise None.\n",
    "    \"\"\"\n",
    "    params = {\n",
    "        \"q\": book_title,\n",
    "        \"key\": API_KEY\n",
    "    }\n",
    "    response = requests.get(BASE_URL, params=params)\n",
    "    \n",
    "    if response.status_code == 200:\n",
    "        data = response.json()\n",
    "        if \"items\" in data:\n",
    "            for item in data[\"items\"]:\n",
    "                industry_identifiers = item.get(\"volumeInfo\", {}).get(\"industryIdentifiers\", [])\n",
    "                for identifier in industry_identifiers:\n",
    "                    if identifier.get(\"type\") == \"LCCN\":\n",
    "                        return identifier.get(\"identifier\")\n",
    "    else:\n",
    "        print(f\"Error: Unable to fetch data. Status code: {response.status_code}\")\n",
    "    \n",
    "    return None"
   ]
  },
  {
   "cell_type": "markdown",
   "id": "86c8387c",
   "metadata": {},
   "source": [
    "# Test API Call with Sample Data\n",
    "Test the function with a sample book title from your pre-existing data to verify it retrieves the correct LCCN number."
   ]
  },
  {
   "cell_type": "code",
   "execution_count": null,
   "id": "0a7bb192",
   "metadata": {},
   "outputs": [],
   "source": [
    "# Test API Call with Sample Data\n",
    "sample_book_title = \"To Kill a Mockingbird\"\n",
    "lccn = get_lccn(sample_book_title)\n",
    "\n",
    "if lccn:\n",
    "    print(f\"The LCCN for '{sample_book_title}' is: {lccn}\")\n",
    "else:\n",
    "    print(f\"No LCCN found for '{sample_book_title}'.\")"
   ]
  }
 ],
 "metadata": {
  "language_info": {
   "name": "python"
  }
 },
 "nbformat": 4,
 "nbformat_minor": 5
}
